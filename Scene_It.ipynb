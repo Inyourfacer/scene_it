{
 "cells": [
  {
   "cell_type": "code",
   "execution_count": 1,
   "metadata": {},
   "outputs": [],
   "source": [
    "####### Use Selenium to open webpages that use java script rendering ###############\n",
    "from selenium import webdriver\n",
    "from selenium.webdriver.common.keys import Keys\n",
    "####### Use BeautifulSoup to read and navigate the DOM ################\n",
    "from bs4 import BeautifulSoup\n",
    "from bs4.element import Comment\n",
    "import urllib.request\n",
    "import urllib.error\n",
    "\n",
    "# import re\n",
    "\n",
    "from random import randint\n",
    "\n",
    "import time\n",
    "\n",
    "from selenium.webdriver.common.action_chains import ActionChains"
   ]
  },
  {
   "cell_type": "code",
   "execution_count": 2,
   "metadata": {},
   "outputs": [
    {
     "name": "stdout",
     "output_type": "stream",
     "text": [
      "230\n"
     ]
    }
   ],
   "source": [
    "# url = 'https://www.youtube.com/results?sp=EgIYAQ%253D%253D&search_query=emperor%27s+new+groove'\n",
    "# simpsons\n",
    "# urls = ['https://www.youtube.com/results?sp=EgIYAQ%253D%253D&search_query=homer+simpson+season+9+best+scenes', 'https://www.youtube.com/results?search_query=homer+simpson+season+7+best+scenes&sp=EgIYAQ%253D%253D', 'https://www.youtube.com/results?search_query=homer+simpson+season+8+best+scenes&sp=EgIYAQ%253D%253D', 'https://www.youtube.com/results?search_query=simpsons+clips+season+7+best+lines&sp=EgIYAQ%253D%253D', 'https://www.youtube.com/results?search_query=simpsons+clips+season+8+best+lines&sp=EgIYAQ%253D%253D']\n",
    "urls = ['https://www.youtube.com/results?search_query=simpsons+clips&sp=EgIYAQ%253D%253D', 'https://www.youtube.com/results?sp=EgIYAQ%253D%253D&search_query=robin+hood+disney+clips', 'https://www.youtube.com/results?search_query=spongebob+clips&sp=EgIYAQ%253D%253D', 'https://www.youtube.com/results?sp=EgIYAQ%253D%253D&search_query=emperor%27s+new+groove', 'https://www.youtube.com/results?sp=EgIYAQ%253D%253D&search_query=elf+clips']\n",
    "# print(url)\n",
    "links = []\n",
    "# driver = webdriver.Chrome()\n",
    "# driver.implicitly_wait(30)\n",
    "# driver.get(url)\n",
    "# soup=BeautifulSoup(driver.page_source, 'html.parser')\n",
    "for url in urls:\n",
    "    page = urllib.request.urlopen(url)\n",
    "    soup=BeautifulSoup(page, 'html.parser')\n",
    "    sceens = []\n",
    "    for a in soup.find_all('a', href=True): \n",
    "        if a.text: \n",
    "            sceens.append(a['href'])\n",
    "    sceens = [x for x in sceens if 'watch' in x]\n",
    "    for i in sceens:\n",
    "        domain = 'https://www.youtube.com'\n",
    "        l = domain+i\n",
    "        links.append(l)\n",
    "#     print(len(links))\n",
    "\n",
    "print(len(links))"
   ]
  },
  {
   "cell_type": "code",
   "execution_count": 3,
   "metadata": {},
   "outputs": [
    {
     "name": "stdout",
     "output_type": "stream",
     "text": [
      "115\n"
     ]
    }
   ],
   "source": [
    "### Scrub returned urls for duplicates ####\n",
    "unique=set(links)\n",
    "print(len(unique))"
   ]
  },
  {
   "cell_type": "code",
   "execution_count": null,
   "metadata": {},
   "outputs": [],
   "source": [
    "##### Add unwanted video urls that appear here ####\n",
    "# remove=['https://www.youtube.com/watch?v=6j-SpVq8Af8']"
   ]
  },
  {
   "cell_type": "code",
   "execution_count": 4,
   "metadata": {},
   "outputs": [],
   "source": [
    "### next step would be to include logic to remove viewed urls from the pool ####\n",
    "\n",
    "### This runs each time you want to open a random url/video ###\n",
    "### if the video is too short then it will not pause and the program will eventually time out. This would be another area to add to the script to check for the length of the video ###\n",
    "### If ads appear they can throw off the timing of the script. IF a skip ad option is avaliable the script will find it and click it without disruppting the timing ###\n",
    "\n",
    "\n",
    "for i in unique:\n",
    "    domain = 'https://www.youtube.com/'\n",
    "    l = domain+i\n",
    "    links.append(l)\n",
    "pool = (len(unique))\n",
    "pool = pool - 1\n",
    "rand = (randint(0, pool))\n",
    "url = links[rand]\n",
    "driver = webdriver.Chrome()\n",
    "driver.implicitly_wait(15)\n",
    "driver.get(url)\n",
    "driver.find_element_by_class_name('ytp-fullscreen-button').click()\n",
    "# actions = ActionChains(driver)\n",
    "# actions.send_keys('m')\n",
    "# actions.perform()\n",
    "time.sleep(7)\n",
    "try:\n",
    "    driver.find_element_by_class_name('ytp-ad-skip-button').click()\n",
    "    \n",
    "except:\n",
    "    time.sleep(1)\n",
    "    \n",
    "else:time.sleep(10)\n",
    "actions = ActionChains(driver)\n",
    "actions.send_keys(Keys.SPACE).perform()\n",
    "time.sleep(5)\n",
    "actions.send_keys(Keys.SPACE).perform()\n",
    "time.sleep(5)\n",
    "actions.send_keys(Keys.SPACE).perform()\n",
    "time.sleep(10)\n",
    "driver.quit()"
   ]
  }
 ],
 "metadata": {
  "kernelspec": {
   "display_name": "Python 3",
   "language": "python",
   "name": "python3"
  },
  "language_info": {
   "codemirror_mode": {
    "name": "ipython",
    "version": 3
   },
   "file_extension": ".py",
   "mimetype": "text/x-python",
   "name": "python",
   "nbconvert_exporter": "python",
   "pygments_lexer": "ipython3",
   "version": "3.6.5"
  }
 },
 "nbformat": 4,
 "nbformat_minor": 2
}
